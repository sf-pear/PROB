{
 "cells": [
  {
   "cell_type": "markdown",
   "metadata": {},
   "source": [
    "# FathomNet\n",
    "\n",
    "Training PROB on custom data."
   ]
  },
  {
   "cell_type": "code",
   "execution_count": 1,
   "metadata": {},
   "outputs": [],
   "source": [
    "data_name = \"fathomnet\" # give your dataset a name"
   ]
  },
  {
   "cell_type": "code",
   "execution_count": 1,
   "metadata": {},
   "outputs": [],
   "source": [
    "# # run this to create the necessary folder\n",
    "# import os \n",
    "\n",
    "# data_dir = \"./data/OWOD/\"\n",
    "# folders = ['JPEGImages', 'Annotations', 'ImageSets']\n",
    "\n",
    "# for folder in folders:\n",
    "#     try:\n",
    "#         os.makedirs(os.path.join(data_dir, folder, data_name))\n",
    "#     except OSError as e:\n",
    "#         print(f\"Can't create folder: {str(e)}\")"
   ]
  },
  {
   "cell_type": "markdown",
   "metadata": {},
   "source": [
    "Let's say you want to add a dataset \"DATASET_A\". Then you need to:\n",
    "\n",
    "1. In `./datasets/torchvision_datasets/open_world.py` line 120, add to the dictionary VOC_COCO_CLASS_NAMES a key-value pair: VOC_COCO_CLASS_NAMES[\"DATASET_A\"]=[\"a\",\"b\",\"c\",...]\n",
    "2. Store DATASET_A's images under \"data/OWOD/JPEGImages/DATASET_A/\"\n",
    "3. Store DATASET_A's Annotations under \"data/OWOD/Annotations/DATASET_A/\"\n",
    "4. Store DATASET_A's ImageSets files under \"data/OWOD/ImageSets/DATASET_A/\"\n",
    "5. When you train, the input --dataset should be set to DATASET_A (e.g., --dataset DATASET_A)"
   ]
  },
  {
   "cell_type": "code",
   "execution_count": 3,
   "metadata": {},
   "outputs": [],
   "source": [
    "import itertools\n",
    "\n",
    "UNK_CLASS = [\"unknown\"]\n",
    "\n",
    "VOC_COCO_CLASS_NAMES = {}\n",
    "\n",
    "T1_CLASS_NAMES = [\n",
    "    'Urchin', 'Fish', 'Sea star', 'Anemone', 'Sea cucumber', \n",
    "    'Sea pen', 'Sea fan', 'Worm', 'Crab', 'Gastropod'\n",
    "]\n",
    "\n",
    "T2_CLASS_NAMES = [\n",
    "    'Shrimp', 'Soft coral'\n",
    "]\n",
    "\n",
    "T3_CLASS_NAMES = [\n",
    "    'Glass sponge', 'Feather star'\n",
    "]\n",
    "\n",
    "T4_CLASS_NAMES = [\n",
    "    'Eel', 'Squat lobster', 'Barnacle', 'Stony coral', 'Black coral', 'Sea spider'\n",
    "]\n",
    "\n",
    "VOC_COCO_CLASS_NAMES[\"fathomnet\"] = tuple(itertools.chain(T1_CLASS_NAMES, T2_CLASS_NAMES, T3_CLASS_NAMES, T4_CLASS_NAMES, UNK_CLASS))\n"
   ]
  },
  {
   "cell_type": "code",
   "execution_count": 4,
   "metadata": {},
   "outputs": [
    {
     "data": {
      "text/plain": [
       "{'fathomnet': ('Urchin',\n",
       "  'Fish',\n",
       "  'Sea star',\n",
       "  'Anemone',\n",
       "  'Sea cucumber',\n",
       "  'Sea pen',\n",
       "  'Sea fan',\n",
       "  'Worm',\n",
       "  'Crab',\n",
       "  'Gastropod',\n",
       "  'Shrimp',\n",
       "  'Soft coral',\n",
       "  'Glass sponge',\n",
       "  'Feather star',\n",
       "  'Eel',\n",
       "  'Squat lobster',\n",
       "  'Barnacle',\n",
       "  'Stony coral',\n",
       "  'Black coral',\n",
       "  'Sea spider',\n",
       "  'unknown')}"
      ]
     },
     "execution_count": 4,
     "metadata": {},
     "output_type": "execute_result"
    }
   ],
   "source": [
    "VOC_COCO_CLASS_NAMES"
   ]
  },
  {
   "cell_type": "markdown",
   "metadata": {},
   "source": [
    "Other files to change:\n",
    "\n",
    "- `configs/M_OWOD_BENCHMARK.sh` update all paths to point to the correct ImageSet files\n",
    "- `/home/sabrina/code/PROB/run.sh` update the number of GPUs you have in your machine"
   ]
  },
  {
   "cell_type": "markdown",
   "metadata": {},
   "source": [
    "Sort out WANDB:\n",
    "- change entity (aka wandb username) in lines 165 and 167 in the file `/main_open_world.py`"
   ]
  },
  {
   "cell_type": "code",
   "execution_count": 6,
   "metadata": {},
   "outputs": [
    {
     "data": {
      "text/plain": [
       "True"
      ]
     },
     "execution_count": 6,
     "metadata": {},
     "output_type": "execute_result"
    }
   ],
   "source": [
    "import wandb\n",
    "\n",
    "# confirm login\n",
    "wandb.login()"
   ]
  },
  {
   "cell_type": "markdown",
   "metadata": {},
   "source": [
    "There are issues with the file names, they have to be numbers like the VOC dataset for some reason. I made a VOC-test folder with all the file sthat need to be changed.\n",
    "- Annotations and JPEGImages need a new file name, and \n",
    "- all txt files inside ImageSets need to be updated to match.\n",
    "\n",
    "If it all goes wrong and all files need to be copied again do it in bash in the `./data/processed` folder `cp -frp VOC-backup -T VOC-test` make sure the taget folder name doesn't exist already ([stackoverflow](https://stackoverflow.com/questions/33343840/bash-duplicate-rename-folder))."
   ]
  },
  {
   "cell_type": "code",
   "execution_count": null,
   "metadata": {},
   "outputs": [],
   "source": []
  },
  {
   "cell_type": "markdown",
   "metadata": {},
   "source": [
    "In `datasets/torchvision_datasets/open_world.py` lines 193 and 198, change .jpg to .png as our images are pngs."
   ]
  },
  {
   "cell_type": "markdown",
   "metadata": {},
   "source": [
    "## Set up\n",
    "\n",
    "### Compiling CUDA operators"
   ]
  },
  {
   "cell_type": "code",
   "execution_count": 11,
   "metadata": {},
   "outputs": [],
   "source": [
    "# %cd models\n",
    "# !wget https://dl.fbaipublicfiles.com/dino/dino_resnet50_pretrain/dino_resnet50_pretrain.pth\n",
    "# %cd ops\n",
    "# !sh ./make.sh\n",
    "# %cd ../.."
   ]
  },
  {
   "cell_type": "code",
   "execution_count": null,
   "metadata": {},
   "outputs": [],
   "source": []
  }
 ],
 "metadata": {
  "kernelspec": {
   "display_name": "prob",
   "language": "python",
   "name": "python3"
  },
  "language_info": {
   "codemirror_mode": {
    "name": "ipython",
    "version": 3
   },
   "file_extension": ".py",
   "mimetype": "text/x-python",
   "name": "python",
   "nbconvert_exporter": "python",
   "pygments_lexer": "ipython3",
   "version": "3.10.4"
  },
  "orig_nbformat": 4
 },
 "nbformat": 4,
 "nbformat_minor": 2
}
